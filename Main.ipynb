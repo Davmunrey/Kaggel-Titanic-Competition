{
 "cells": [
  {
   "cell_type": "code",
   "execution_count": 1,
   "id": "5c1f604c",
   "metadata": {
    "execution": {
     "iopub.execute_input": "2023-12-07T20:42:40.099238Z",
     "iopub.status.busy": "2023-12-07T20:42:40.098521Z",
     "iopub.status.idle": "2023-12-07T20:42:42.744913Z",
     "shell.execute_reply": "2023-12-07T20:42:42.743957Z"
    },
    "papermill": {
     "duration": 2.658169,
     "end_time": "2023-12-07T20:42:42.747553",
     "exception": false,
     "start_time": "2023-12-07T20:42:40.089384",
     "status": "completed"
    },
    "tags": []
   },
   "outputs": [],
   "source": [
    "# Importar bibliotecas\n",
    "import pandas as pd\n",
    "import numpy as np\n",
    "import matplotlib.pyplot as plt\n",
    "import seaborn as sns\n",
    "from sklearn.model_selection import train_test_split, GridSearchCV\n",
    "from sklearn.preprocessing import StandardScaler, OneHotEncoder\n",
    "from sklearn.ensemble import RandomForestClassifier\n",
    "from sklearn.compose import ColumnTransformer\n",
    "from sklearn.pipeline import Pipeline\n",
    "from sklearn.impute import SimpleImputer\n",
    "from sklearn.metrics import accuracy_score, classification_report, confusion_matrix\n"
   ]
  },
  {
   "cell_type": "code",
   "execution_count": 2,
   "id": "50d96e14",
   "metadata": {
    "execution": {
     "iopub.execute_input": "2023-12-07T20:42:42.765096Z",
     "iopub.status.busy": "2023-12-07T20:42:42.764119Z",
     "iopub.status.idle": "2023-12-07T20:42:42.771075Z",
     "shell.execute_reply": "2023-12-07T20:42:42.770102Z"
    },
    "papermill": {
     "duration": 0.019064,
     "end_time": "2023-12-07T20:42:42.775241",
     "exception": false,
     "start_time": "2023-12-07T20:42:42.756177",
     "status": "completed"
    },
    "tags": []
   },
   "outputs": [
    {
     "name": "stderr",
     "output_type": "stream",
     "text": [
      "/tmp/ipykernel_19/2255778032.py:3: MatplotlibDeprecationWarning: The seaborn styles shipped by Matplotlib are deprecated since 3.6, as they no longer correspond to the styles shipped by seaborn. However, they will remain available as 'seaborn-v0_8-<style>'. Alternatively, directly use the seaborn API instead.\n",
      "  plt.style.use('seaborn-darkgrid')\n"
     ]
    }
   ],
   "source": [
    "# Configuración de estilo para gráficos Seaborn\n",
    "sns.set(style=\"whitegrid\")\n",
    "plt.style.use('seaborn-darkgrid')"
   ]
  },
  {
   "cell_type": "code",
   "execution_count": 3,
   "id": "60eab313",
   "metadata": {
    "execution": {
     "iopub.execute_input": "2023-12-07T20:42:42.790960Z",
     "iopub.status.busy": "2023-12-07T20:42:42.789875Z",
     "iopub.status.idle": "2023-12-07T20:42:42.835072Z",
     "shell.execute_reply": "2023-12-07T20:42:42.834130Z"
    },
    "papermill": {
     "duration": 0.055826,
     "end_time": "2023-12-07T20:42:42.837759",
     "exception": false,
     "start_time": "2023-12-07T20:42:42.781933",
     "status": "completed"
    },
    "tags": []
   },
   "outputs": [],
   "source": [
    "# Cargar datos\n",
    "train_data = pd.read_csv('/kaggle/input/titanic-comp-data/train.csv')\n",
    "test_data = pd.read_csv('/kaggle/input/titanic-comp-data/test.csv')"
   ]
  },
  {
   "cell_type": "code",
   "execution_count": 4,
   "id": "9d0b60a7",
   "metadata": {
    "execution": {
     "iopub.execute_input": "2023-12-07T20:42:42.854303Z",
     "iopub.status.busy": "2023-12-07T20:42:42.853941Z",
     "iopub.status.idle": "2023-12-07T20:42:42.860396Z",
     "shell.execute_reply": "2023-12-07T20:42:42.859322Z"
    },
    "papermill": {
     "duration": 0.017828,
     "end_time": "2023-12-07T20:42:42.862602",
     "exception": false,
     "start_time": "2023-12-07T20:42:42.844774",
     "status": "completed"
    },
    "tags": []
   },
   "outputs": [],
   "source": [
    "# Función para la limpieza de datos\n",
    "def clean_data(df):\n",
    "    df = df.drop(['PassengerId', 'Name', 'Ticket', 'Cabin'], axis=1)\n",
    "    df['Age'].fillna(df['Age'].median(), inplace=True)\n",
    "    df['Fare'].fillna(df['Fare'].median(), inplace=True)\n",
    "    df['Embarked'].fillna(df['Embarked'].mode()[0], inplace=True)\n",
    "    return df\n"
   ]
  },
  {
   "cell_type": "code",
   "execution_count": 5,
   "id": "276b8a9c",
   "metadata": {
    "execution": {
     "iopub.execute_input": "2023-12-07T20:42:42.877487Z",
     "iopub.status.busy": "2023-12-07T20:42:42.877146Z",
     "iopub.status.idle": "2023-12-07T20:42:42.902261Z",
     "shell.execute_reply": "2023-12-07T20:42:42.901353Z"
    },
    "papermill": {
     "duration": 0.035241,
     "end_time": "2023-12-07T20:42:42.904556",
     "exception": false,
     "start_time": "2023-12-07T20:42:42.869315",
     "status": "completed"
    },
    "tags": []
   },
   "outputs": [],
   "source": [
    "# Limpieza de datos\n",
    "train_data = clean_data(train_data)\n",
    "test_data = clean_data(test_data)"
   ]
  },
  {
   "cell_type": "code",
   "execution_count": 6,
   "id": "25dc89c0",
   "metadata": {
    "execution": {
     "iopub.execute_input": "2023-12-07T20:42:42.919731Z",
     "iopub.status.busy": "2023-12-07T20:42:42.919151Z",
     "iopub.status.idle": "2023-12-07T20:42:42.925404Z",
     "shell.execute_reply": "2023-12-07T20:42:42.924491Z"
    },
    "papermill": {
     "duration": 0.016307,
     "end_time": "2023-12-07T20:42:42.927562",
     "exception": false,
     "start_time": "2023-12-07T20:42:42.911255",
     "status": "completed"
    },
    "tags": []
   },
   "outputs": [],
   "source": [
    "# División en características (X) y variable objetivo (y)\n",
    "X = train_data.drop('Survived', axis=1)\n",
    "y = train_data['Survived']"
   ]
  },
  {
   "cell_type": "code",
   "execution_count": 7,
   "id": "767b65ca",
   "metadata": {
    "execution": {
     "iopub.execute_input": "2023-12-07T20:42:42.942940Z",
     "iopub.status.busy": "2023-12-07T20:42:42.942352Z",
     "iopub.status.idle": "2023-12-07T20:42:42.949665Z",
     "shell.execute_reply": "2023-12-07T20:42:42.948895Z"
    },
    "papermill": {
     "duration": 0.017587,
     "end_time": "2023-12-07T20:42:42.951937",
     "exception": false,
     "start_time": "2023-12-07T20:42:42.934350",
     "status": "completed"
    },
    "tags": []
   },
   "outputs": [],
   "source": [
    "# D# División del conjunto de entrenamiento\n",
    "X_train, X_test, y_train, y_test = train_test_split(X, y, test_size=0.2, random_state=42)"
   ]
  },
  {
   "cell_type": "code",
   "execution_count": 8,
   "id": "4ba70001",
   "metadata": {
    "execution": {
     "iopub.execute_input": "2023-12-07T20:42:42.967801Z",
     "iopub.status.busy": "2023-12-07T20:42:42.966917Z",
     "iopub.status.idle": "2023-12-07T20:42:42.972844Z",
     "shell.execute_reply": "2023-12-07T20:42:42.972110Z"
    },
    "papermill": {
     "duration": 0.016174,
     "end_time": "2023-12-07T20:42:42.974790",
     "exception": false,
     "start_time": "2023-12-07T20:42:42.958616",
     "status": "completed"
    },
    "tags": []
   },
   "outputs": [],
   "source": [
    "# Definir transformadores para características numéricas y categóricas\n",
    "numeric_features = ['Age', 'SibSp', 'Parch', 'Fare']\n",
    "categorical_features = ['Pclass', 'Sex', 'Embarked']\n",
    "\n",
    "numeric_transformer = Pipeline(steps=[\n",
    "    ('imputer', SimpleImputer(strategy='median')),\n",
    "    ('scaler', StandardScaler())\n",
    "])\n",
    "\n",
    "categorical_transformer = Pipeline(steps=[\n",
    "    ('imputer', SimpleImputer(strategy='most_frequent')),\n",
    "    ('onehot', OneHotEncoder(handle_unknown='ignore'))\n",
    "])"
   ]
  },
  {
   "cell_type": "code",
   "execution_count": 9,
   "id": "21c97982",
   "metadata": {
    "execution": {
     "iopub.execute_input": "2023-12-07T20:42:42.990192Z",
     "iopub.status.busy": "2023-12-07T20:42:42.989271Z",
     "iopub.status.idle": "2023-12-07T20:42:42.993911Z",
     "shell.execute_reply": "2023-12-07T20:42:42.993054Z"
    },
    "papermill": {
     "duration": 0.014454,
     "end_time": "2023-12-07T20:42:42.995957",
     "exception": false,
     "start_time": "2023-12-07T20:42:42.981503",
     "status": "completed"
    },
    "tags": []
   },
   "outputs": [],
   "source": [
    "# Combinar transformadores\n",
    "preprocessor = ColumnTransformer(\n",
    "    transformers=[\n",
    "        ('num', numeric_transformer, numeric_features),\n",
    "        ('cat', categorical_transformer, categorical_features)\n",
    "    ])"
   ]
  },
  {
   "cell_type": "code",
   "execution_count": 10,
   "id": "7139c83f",
   "metadata": {
    "execution": {
     "iopub.execute_input": "2023-12-07T20:42:43.010268Z",
     "iopub.status.busy": "2023-12-07T20:42:43.009927Z",
     "iopub.status.idle": "2023-12-07T20:42:43.014058Z",
     "shell.execute_reply": "2023-12-07T20:42:43.013074Z"
    },
    "papermill": {
     "duration": 0.013652,
     "end_time": "2023-12-07T20:42:43.016033",
     "exception": false,
     "start_time": "2023-12-07T20:42:43.002381",
     "status": "completed"
    },
    "tags": []
   },
   "outputs": [],
   "source": [
    "# Definir el modelo\n",
    "model = RandomForestClassifier(random_state=42)"
   ]
  },
  {
   "cell_type": "code",
   "execution_count": 11,
   "id": "bfc3297f",
   "metadata": {
    "execution": {
     "iopub.execute_input": "2023-12-07T20:42:43.031247Z",
     "iopub.status.busy": "2023-12-07T20:42:43.030609Z",
     "iopub.status.idle": "2023-12-07T20:42:43.034953Z",
     "shell.execute_reply": "2023-12-07T20:42:43.034160Z"
    },
    "papermill": {
     "duration": 0.014422,
     "end_time": "2023-12-07T20:42:43.036942",
     "exception": false,
     "start_time": "2023-12-07T20:42:43.022520",
     "status": "completed"
    },
    "tags": []
   },
   "outputs": [],
   "source": [
    "# Crear el pipeline\n",
    "pipeline = Pipeline(steps=[('preprocessor', preprocessor),\n",
    "                             ('classifier', model)])"
   ]
  },
  {
   "cell_type": "code",
   "execution_count": 12,
   "id": "dafc683d",
   "metadata": {
    "execution": {
     "iopub.execute_input": "2023-12-07T20:42:43.052233Z",
     "iopub.status.busy": "2023-12-07T20:42:43.051591Z",
     "iopub.status.idle": "2023-12-07T20:42:43.056611Z",
     "shell.execute_reply": "2023-12-07T20:42:43.055805Z"
    },
    "papermill": {
     "duration": 0.015259,
     "end_time": "2023-12-07T20:42:43.058814",
     "exception": false,
     "start_time": "2023-12-07T20:42:43.043555",
     "status": "completed"
    },
    "tags": []
   },
   "outputs": [],
   "source": [
    "# Definir parámetros para búsqueda en cuadrícula\n",
    "param_grid = {\n",
    "    'classifier__n_estimators': [50, 100, 200],\n",
    "    'classifier__max_depth': [None, 10, 20],\n",
    "    'classifier__min_samples_split': [2, 5, 10],\n",
    "    'classifier__min_samples_leaf': [1, 2, 4],\n",
    "}"
   ]
  },
  {
   "cell_type": "code",
   "execution_count": 13,
   "id": "f70b52d5",
   "metadata": {
    "execution": {
     "iopub.execute_input": "2023-12-07T20:42:43.073614Z",
     "iopub.status.busy": "2023-12-07T20:42:43.073222Z",
     "iopub.status.idle": "2023-12-07T20:44:48.437676Z",
     "shell.execute_reply": "2023-12-07T20:44:48.436694Z"
    },
    "papermill": {
     "duration": 125.38318,
     "end_time": "2023-12-07T20:44:48.448729",
     "exception": false,
     "start_time": "2023-12-07T20:42:43.065549",
     "status": "completed"
    },
    "tags": []
   },
   "outputs": [
    {
     "data": {
      "text/html": [
       "<style>#sk-container-id-1 {color: black;background-color: white;}#sk-container-id-1 pre{padding: 0;}#sk-container-id-1 div.sk-toggleable {background-color: white;}#sk-container-id-1 label.sk-toggleable__label {cursor: pointer;display: block;width: 100%;margin-bottom: 0;padding: 0.3em;box-sizing: border-box;text-align: center;}#sk-container-id-1 label.sk-toggleable__label-arrow:before {content: \"▸\";float: left;margin-right: 0.25em;color: #696969;}#sk-container-id-1 label.sk-toggleable__label-arrow:hover:before {color: black;}#sk-container-id-1 div.sk-estimator:hover label.sk-toggleable__label-arrow:before {color: black;}#sk-container-id-1 div.sk-toggleable__content {max-height: 0;max-width: 0;overflow: hidden;text-align: left;background-color: #f0f8ff;}#sk-container-id-1 div.sk-toggleable__content pre {margin: 0.2em;color: black;border-radius: 0.25em;background-color: #f0f8ff;}#sk-container-id-1 input.sk-toggleable__control:checked~div.sk-toggleable__content {max-height: 200px;max-width: 100%;overflow: auto;}#sk-container-id-1 input.sk-toggleable__control:checked~label.sk-toggleable__label-arrow:before {content: \"▾\";}#sk-container-id-1 div.sk-estimator input.sk-toggleable__control:checked~label.sk-toggleable__label {background-color: #d4ebff;}#sk-container-id-1 div.sk-label input.sk-toggleable__control:checked~label.sk-toggleable__label {background-color: #d4ebff;}#sk-container-id-1 input.sk-hidden--visually {border: 0;clip: rect(1px 1px 1px 1px);clip: rect(1px, 1px, 1px, 1px);height: 1px;margin: -1px;overflow: hidden;padding: 0;position: absolute;width: 1px;}#sk-container-id-1 div.sk-estimator {font-family: monospace;background-color: #f0f8ff;border: 1px dotted black;border-radius: 0.25em;box-sizing: border-box;margin-bottom: 0.5em;}#sk-container-id-1 div.sk-estimator:hover {background-color: #d4ebff;}#sk-container-id-1 div.sk-parallel-item::after {content: \"\";width: 100%;border-bottom: 1px solid gray;flex-grow: 1;}#sk-container-id-1 div.sk-label:hover label.sk-toggleable__label {background-color: #d4ebff;}#sk-container-id-1 div.sk-serial::before {content: \"\";position: absolute;border-left: 1px solid gray;box-sizing: border-box;top: 0;bottom: 0;left: 50%;z-index: 0;}#sk-container-id-1 div.sk-serial {display: flex;flex-direction: column;align-items: center;background-color: white;padding-right: 0.2em;padding-left: 0.2em;position: relative;}#sk-container-id-1 div.sk-item {position: relative;z-index: 1;}#sk-container-id-1 div.sk-parallel {display: flex;align-items: stretch;justify-content: center;background-color: white;position: relative;}#sk-container-id-1 div.sk-item::before, #sk-container-id-1 div.sk-parallel-item::before {content: \"\";position: absolute;border-left: 1px solid gray;box-sizing: border-box;top: 0;bottom: 0;left: 50%;z-index: -1;}#sk-container-id-1 div.sk-parallel-item {display: flex;flex-direction: column;z-index: 1;position: relative;background-color: white;}#sk-container-id-1 div.sk-parallel-item:first-child::after {align-self: flex-end;width: 50%;}#sk-container-id-1 div.sk-parallel-item:last-child::after {align-self: flex-start;width: 50%;}#sk-container-id-1 div.sk-parallel-item:only-child::after {width: 0;}#sk-container-id-1 div.sk-dashed-wrapped {border: 1px dashed gray;margin: 0 0.4em 0.5em 0.4em;box-sizing: border-box;padding-bottom: 0.4em;background-color: white;}#sk-container-id-1 div.sk-label label {font-family: monospace;font-weight: bold;display: inline-block;line-height: 1.2em;}#sk-container-id-1 div.sk-label-container {text-align: center;}#sk-container-id-1 div.sk-container {/* jupyter's `normalize.less` sets `[hidden] { display: none; }` but bootstrap.min.css set `[hidden] { display: none !important; }` so we also need the `!important` here to be able to override the default hidden behavior on the sphinx rendered scikit-learn.org. See: https://github.com/scikit-learn/scikit-learn/issues/21755 */display: inline-block !important;position: relative;}#sk-container-id-1 div.sk-text-repr-fallback {display: none;}</style><div id=\"sk-container-id-1\" class=\"sk-top-container\"><div class=\"sk-text-repr-fallback\"><pre>GridSearchCV(cv=5,\n",
       "             estimator=Pipeline(steps=[(&#x27;preprocessor&#x27;,\n",
       "                                        ColumnTransformer(transformers=[(&#x27;num&#x27;,\n",
       "                                                                         Pipeline(steps=[(&#x27;imputer&#x27;,\n",
       "                                                                                          SimpleImputer(strategy=&#x27;median&#x27;)),\n",
       "                                                                                         (&#x27;scaler&#x27;,\n",
       "                                                                                          StandardScaler())]),\n",
       "                                                                         [&#x27;Age&#x27;,\n",
       "                                                                          &#x27;SibSp&#x27;,\n",
       "                                                                          &#x27;Parch&#x27;,\n",
       "                                                                          &#x27;Fare&#x27;]),\n",
       "                                                                        (&#x27;cat&#x27;,\n",
       "                                                                         Pipeline(steps=[(&#x27;imputer&#x27;,\n",
       "                                                                                          SimpleImputer(strategy=&#x27;most_frequent&#x27;)),\n",
       "                                                                                         (&#x27;onehot&#x27;,\n",
       "                                                                                          OneHotEncoder(handle_unknown=&#x27;ignore&#x27;))]),\n",
       "                                                                         [&#x27;Pclass&#x27;,\n",
       "                                                                          &#x27;Sex&#x27;,\n",
       "                                                                          &#x27;Embarked&#x27;])])),\n",
       "                                       (&#x27;classifier&#x27;,\n",
       "                                        RandomForestClassifier(random_state=42))]),\n",
       "             param_grid={&#x27;classifier__max_depth&#x27;: [None, 10, 20],\n",
       "                         &#x27;classifier__min_samples_leaf&#x27;: [1, 2, 4],\n",
       "                         &#x27;classifier__min_samples_split&#x27;: [2, 5, 10],\n",
       "                         &#x27;classifier__n_estimators&#x27;: [50, 100, 200]},\n",
       "             scoring=&#x27;accuracy&#x27;)</pre><b>In a Jupyter environment, please rerun this cell to show the HTML representation or trust the notebook. <br />On GitHub, the HTML representation is unable to render, please try loading this page with nbviewer.org.</b></div><div class=\"sk-container\" hidden><div class=\"sk-item sk-dashed-wrapped\"><div class=\"sk-label-container\"><div class=\"sk-label sk-toggleable\"><input class=\"sk-toggleable__control sk-hidden--visually\" id=\"sk-estimator-id-1\" type=\"checkbox\" ><label for=\"sk-estimator-id-1\" class=\"sk-toggleable__label sk-toggleable__label-arrow\">GridSearchCV</label><div class=\"sk-toggleable__content\"><pre>GridSearchCV(cv=5,\n",
       "             estimator=Pipeline(steps=[(&#x27;preprocessor&#x27;,\n",
       "                                        ColumnTransformer(transformers=[(&#x27;num&#x27;,\n",
       "                                                                         Pipeline(steps=[(&#x27;imputer&#x27;,\n",
       "                                                                                          SimpleImputer(strategy=&#x27;median&#x27;)),\n",
       "                                                                                         (&#x27;scaler&#x27;,\n",
       "                                                                                          StandardScaler())]),\n",
       "                                                                         [&#x27;Age&#x27;,\n",
       "                                                                          &#x27;SibSp&#x27;,\n",
       "                                                                          &#x27;Parch&#x27;,\n",
       "                                                                          &#x27;Fare&#x27;]),\n",
       "                                                                        (&#x27;cat&#x27;,\n",
       "                                                                         Pipeline(steps=[(&#x27;imputer&#x27;,\n",
       "                                                                                          SimpleImputer(strategy=&#x27;most_frequent&#x27;)),\n",
       "                                                                                         (&#x27;onehot&#x27;,\n",
       "                                                                                          OneHotEncoder(handle_unknown=&#x27;ignore&#x27;))]),\n",
       "                                                                         [&#x27;Pclass&#x27;,\n",
       "                                                                          &#x27;Sex&#x27;,\n",
       "                                                                          &#x27;Embarked&#x27;])])),\n",
       "                                       (&#x27;classifier&#x27;,\n",
       "                                        RandomForestClassifier(random_state=42))]),\n",
       "             param_grid={&#x27;classifier__max_depth&#x27;: [None, 10, 20],\n",
       "                         &#x27;classifier__min_samples_leaf&#x27;: [1, 2, 4],\n",
       "                         &#x27;classifier__min_samples_split&#x27;: [2, 5, 10],\n",
       "                         &#x27;classifier__n_estimators&#x27;: [50, 100, 200]},\n",
       "             scoring=&#x27;accuracy&#x27;)</pre></div></div></div><div class=\"sk-parallel\"><div class=\"sk-parallel-item\"><div class=\"sk-item\"><div class=\"sk-label-container\"><div class=\"sk-label sk-toggleable\"><input class=\"sk-toggleable__control sk-hidden--visually\" id=\"sk-estimator-id-2\" type=\"checkbox\" ><label for=\"sk-estimator-id-2\" class=\"sk-toggleable__label sk-toggleable__label-arrow\">estimator: Pipeline</label><div class=\"sk-toggleable__content\"><pre>Pipeline(steps=[(&#x27;preprocessor&#x27;,\n",
       "                 ColumnTransformer(transformers=[(&#x27;num&#x27;,\n",
       "                                                  Pipeline(steps=[(&#x27;imputer&#x27;,\n",
       "                                                                   SimpleImputer(strategy=&#x27;median&#x27;)),\n",
       "                                                                  (&#x27;scaler&#x27;,\n",
       "                                                                   StandardScaler())]),\n",
       "                                                  [&#x27;Age&#x27;, &#x27;SibSp&#x27;, &#x27;Parch&#x27;,\n",
       "                                                   &#x27;Fare&#x27;]),\n",
       "                                                 (&#x27;cat&#x27;,\n",
       "                                                  Pipeline(steps=[(&#x27;imputer&#x27;,\n",
       "                                                                   SimpleImputer(strategy=&#x27;most_frequent&#x27;)),\n",
       "                                                                  (&#x27;onehot&#x27;,\n",
       "                                                                   OneHotEncoder(handle_unknown=&#x27;ignore&#x27;))]),\n",
       "                                                  [&#x27;Pclass&#x27;, &#x27;Sex&#x27;,\n",
       "                                                   &#x27;Embarked&#x27;])])),\n",
       "                (&#x27;classifier&#x27;, RandomForestClassifier(random_state=42))])</pre></div></div></div><div class=\"sk-serial\"><div class=\"sk-item\"><div class=\"sk-serial\"><div class=\"sk-item sk-dashed-wrapped\"><div class=\"sk-label-container\"><div class=\"sk-label sk-toggleable\"><input class=\"sk-toggleable__control sk-hidden--visually\" id=\"sk-estimator-id-3\" type=\"checkbox\" ><label for=\"sk-estimator-id-3\" class=\"sk-toggleable__label sk-toggleable__label-arrow\">preprocessor: ColumnTransformer</label><div class=\"sk-toggleable__content\"><pre>ColumnTransformer(transformers=[(&#x27;num&#x27;,\n",
       "                                 Pipeline(steps=[(&#x27;imputer&#x27;,\n",
       "                                                  SimpleImputer(strategy=&#x27;median&#x27;)),\n",
       "                                                 (&#x27;scaler&#x27;, StandardScaler())]),\n",
       "                                 [&#x27;Age&#x27;, &#x27;SibSp&#x27;, &#x27;Parch&#x27;, &#x27;Fare&#x27;]),\n",
       "                                (&#x27;cat&#x27;,\n",
       "                                 Pipeline(steps=[(&#x27;imputer&#x27;,\n",
       "                                                  SimpleImputer(strategy=&#x27;most_frequent&#x27;)),\n",
       "                                                 (&#x27;onehot&#x27;,\n",
       "                                                  OneHotEncoder(handle_unknown=&#x27;ignore&#x27;))]),\n",
       "                                 [&#x27;Pclass&#x27;, &#x27;Sex&#x27;, &#x27;Embarked&#x27;])])</pre></div></div></div><div class=\"sk-parallel\"><div class=\"sk-parallel-item\"><div class=\"sk-item\"><div class=\"sk-label-container\"><div class=\"sk-label sk-toggleable\"><input class=\"sk-toggleable__control sk-hidden--visually\" id=\"sk-estimator-id-4\" type=\"checkbox\" ><label for=\"sk-estimator-id-4\" class=\"sk-toggleable__label sk-toggleable__label-arrow\">num</label><div class=\"sk-toggleable__content\"><pre>[&#x27;Age&#x27;, &#x27;SibSp&#x27;, &#x27;Parch&#x27;, &#x27;Fare&#x27;]</pre></div></div></div><div class=\"sk-serial\"><div class=\"sk-item\"><div class=\"sk-serial\"><div class=\"sk-item\"><div class=\"sk-estimator sk-toggleable\"><input class=\"sk-toggleable__control sk-hidden--visually\" id=\"sk-estimator-id-5\" type=\"checkbox\" ><label for=\"sk-estimator-id-5\" class=\"sk-toggleable__label sk-toggleable__label-arrow\">SimpleImputer</label><div class=\"sk-toggleable__content\"><pre>SimpleImputer(strategy=&#x27;median&#x27;)</pre></div></div></div><div class=\"sk-item\"><div class=\"sk-estimator sk-toggleable\"><input class=\"sk-toggleable__control sk-hidden--visually\" id=\"sk-estimator-id-6\" type=\"checkbox\" ><label for=\"sk-estimator-id-6\" class=\"sk-toggleable__label sk-toggleable__label-arrow\">StandardScaler</label><div class=\"sk-toggleable__content\"><pre>StandardScaler()</pre></div></div></div></div></div></div></div></div><div class=\"sk-parallel-item\"><div class=\"sk-item\"><div class=\"sk-label-container\"><div class=\"sk-label sk-toggleable\"><input class=\"sk-toggleable__control sk-hidden--visually\" id=\"sk-estimator-id-7\" type=\"checkbox\" ><label for=\"sk-estimator-id-7\" class=\"sk-toggleable__label sk-toggleable__label-arrow\">cat</label><div class=\"sk-toggleable__content\"><pre>[&#x27;Pclass&#x27;, &#x27;Sex&#x27;, &#x27;Embarked&#x27;]</pre></div></div></div><div class=\"sk-serial\"><div class=\"sk-item\"><div class=\"sk-serial\"><div class=\"sk-item\"><div class=\"sk-estimator sk-toggleable\"><input class=\"sk-toggleable__control sk-hidden--visually\" id=\"sk-estimator-id-8\" type=\"checkbox\" ><label for=\"sk-estimator-id-8\" class=\"sk-toggleable__label sk-toggleable__label-arrow\">SimpleImputer</label><div class=\"sk-toggleable__content\"><pre>SimpleImputer(strategy=&#x27;most_frequent&#x27;)</pre></div></div></div><div class=\"sk-item\"><div class=\"sk-estimator sk-toggleable\"><input class=\"sk-toggleable__control sk-hidden--visually\" id=\"sk-estimator-id-9\" type=\"checkbox\" ><label for=\"sk-estimator-id-9\" class=\"sk-toggleable__label sk-toggleable__label-arrow\">OneHotEncoder</label><div class=\"sk-toggleable__content\"><pre>OneHotEncoder(handle_unknown=&#x27;ignore&#x27;)</pre></div></div></div></div></div></div></div></div></div></div><div class=\"sk-item\"><div class=\"sk-estimator sk-toggleable\"><input class=\"sk-toggleable__control sk-hidden--visually\" id=\"sk-estimator-id-10\" type=\"checkbox\" ><label for=\"sk-estimator-id-10\" class=\"sk-toggleable__label sk-toggleable__label-arrow\">RandomForestClassifier</label><div class=\"sk-toggleable__content\"><pre>RandomForestClassifier(random_state=42)</pre></div></div></div></div></div></div></div></div></div></div></div></div>"
      ],
      "text/plain": [
       "GridSearchCV(cv=5,\n",
       "             estimator=Pipeline(steps=[('preprocessor',\n",
       "                                        ColumnTransformer(transformers=[('num',\n",
       "                                                                         Pipeline(steps=[('imputer',\n",
       "                                                                                          SimpleImputer(strategy='median')),\n",
       "                                                                                         ('scaler',\n",
       "                                                                                          StandardScaler())]),\n",
       "                                                                         ['Age',\n",
       "                                                                          'SibSp',\n",
       "                                                                          'Parch',\n",
       "                                                                          'Fare']),\n",
       "                                                                        ('cat',\n",
       "                                                                         Pipeline(steps=[('imputer',\n",
       "                                                                                          SimpleImputer(strategy='most_frequent')),\n",
       "                                                                                         ('onehot',\n",
       "                                                                                          OneHotEncoder(handle_unknown='ignore'))]),\n",
       "                                                                         ['Pclass',\n",
       "                                                                          'Sex',\n",
       "                                                                          'Embarked'])])),\n",
       "                                       ('classifier',\n",
       "                                        RandomForestClassifier(random_state=42))]),\n",
       "             param_grid={'classifier__max_depth': [None, 10, 20],\n",
       "                         'classifier__min_samples_leaf': [1, 2, 4],\n",
       "                         'classifier__min_samples_split': [2, 5, 10],\n",
       "                         'classifier__n_estimators': [50, 100, 200]},\n",
       "             scoring='accuracy')"
      ]
     },
     "execution_count": 13,
     "metadata": {},
     "output_type": "execute_result"
    }
   ],
   "source": [
    "# Realizar búsqueda en cuadrícula para encontrar los mejores parámetros\n",
    "grid_search = GridSearchCV(pipeline, param_grid, cv=5, scoring='accuracy')\n",
    "grid_search.fit(X_train, y_train)"
   ]
  },
  {
   "cell_type": "code",
   "execution_count": 14,
   "id": "92758944",
   "metadata": {
    "execution": {
     "iopub.execute_input": "2023-12-07T20:44:48.464458Z",
     "iopub.status.busy": "2023-12-07T20:44:48.464049Z",
     "iopub.status.idle": "2023-12-07T20:44:48.468625Z",
     "shell.execute_reply": "2023-12-07T20:44:48.467689Z"
    },
    "papermill": {
     "duration": 0.015002,
     "end_time": "2023-12-07T20:44:48.470822",
     "exception": false,
     "start_time": "2023-12-07T20:44:48.455820",
     "status": "completed"
    },
    "tags": []
   },
   "outputs": [],
   "source": [
    "# Obtener el mejor modelo\n",
    "best_model = grid_search.best_estimator_"
   ]
  },
  {
   "cell_type": "code",
   "execution_count": 15,
   "id": "7c978e6d",
   "metadata": {
    "execution": {
     "iopub.execute_input": "2023-12-07T20:44:48.488395Z",
     "iopub.status.busy": "2023-12-07T20:44:48.487182Z",
     "iopub.status.idle": "2023-12-07T20:44:48.508168Z",
     "shell.execute_reply": "2023-12-07T20:44:48.507337Z"
    },
    "papermill": {
     "duration": 0.032186,
     "end_time": "2023-12-07T20:44:48.510552",
     "exception": false,
     "start_time": "2023-12-07T20:44:48.478366",
     "status": "completed"
    },
    "tags": []
   },
   "outputs": [],
   "source": [
    "# Evaluación del modelo en el conjunto de prueba\n",
    "y_pred = best_model.predict(X_test)"
   ]
  },
  {
   "cell_type": "code",
   "execution_count": 16,
   "id": "8fb85a54",
   "metadata": {
    "execution": {
     "iopub.execute_input": "2023-12-07T20:44:48.527464Z",
     "iopub.status.busy": "2023-12-07T20:44:48.526544Z",
     "iopub.status.idle": "2023-12-07T20:44:48.542328Z",
     "shell.execute_reply": "2023-12-07T20:44:48.541259Z"
    },
    "papermill": {
     "duration": 0.02674,
     "end_time": "2023-12-07T20:44:48.544783",
     "exception": false,
     "start_time": "2023-12-07T20:44:48.518043",
     "status": "completed"
    },
    "tags": []
   },
   "outputs": [
    {
     "name": "stdout",
     "output_type": "stream",
     "text": [
      "Accuracy: 0.8268156424581006\n",
      "Classification Report:\n",
      "               precision    recall  f1-score   support\n",
      "\n",
      "           0       0.82      0.90      0.86       105\n",
      "           1       0.83      0.73      0.78        74\n",
      "\n",
      "    accuracy                           0.83       179\n",
      "   macro avg       0.83      0.81      0.82       179\n",
      "weighted avg       0.83      0.83      0.82       179\n",
      "\n",
      "Confusion Matrix:\n",
      " [[94 11]\n",
      " [20 54]]\n"
     ]
    }
   ],
   "source": [
    "# Mostrar métricas de evaluación\n",
    "print(\"Accuracy:\", accuracy_score(y_test, y_pred))\n",
    "print(\"Classification Report:\\n\", classification_report(y_test, y_pred))\n",
    "print(\"Confusion Matrix:\\n\", confusion_matrix(y_test, y_pred))"
   ]
  },
  {
   "cell_type": "code",
   "execution_count": 17,
   "id": "96bfe14a",
   "metadata": {
    "execution": {
     "iopub.execute_input": "2023-12-07T20:44:48.562123Z",
     "iopub.status.busy": "2023-12-07T20:44:48.561472Z",
     "iopub.status.idle": "2023-12-07T20:44:48.585145Z",
     "shell.execute_reply": "2023-12-07T20:44:48.584230Z"
    },
    "papermill": {
     "duration": 0.035125,
     "end_time": "2023-12-07T20:44:48.587578",
     "exception": false,
     "start_time": "2023-12-07T20:44:48.552453",
     "status": "completed"
    },
    "tags": []
   },
   "outputs": [],
   "source": [
    "# Realizar predicciones en el conjunto de prueba (test.csv)\n",
    "test_predictions = best_model.predict(test_data)"
   ]
  },
  {
   "cell_type": "code",
   "execution_count": 18,
   "id": "4dcf3223",
   "metadata": {
    "execution": {
     "iopub.execute_input": "2023-12-07T20:44:48.605104Z",
     "iopub.status.busy": "2023-12-07T20:44:48.604463Z",
     "iopub.status.idle": "2023-12-07T20:44:48.614919Z",
     "shell.execute_reply": "2023-12-07T20:44:48.613928Z"
    },
    "papermill": {
     "duration": 0.02222,
     "end_time": "2023-12-07T20:44:48.617503",
     "exception": false,
     "start_time": "2023-12-07T20:44:48.595283",
     "status": "completed"
    },
    "tags": []
   },
   "outputs": [],
   "source": [
    "# Crear un archivo de salida con las predicciones\n",
    "output = pd.DataFrame({'Survived': test_predictions})\n",
    "output.to_csv('submission.csv', index=False)"
   ]
  },
  {
   "cell_type": "code",
   "execution_count": 19,
   "id": "75acb03e",
   "metadata": {
    "execution": {
     "iopub.execute_input": "2023-12-07T20:44:48.634709Z",
     "iopub.status.busy": "2023-12-07T20:44:48.634295Z",
     "iopub.status.idle": "2023-12-07T20:44:48.943121Z",
     "shell.execute_reply": "2023-12-07T20:44:48.942051Z"
    },
    "papermill": {
     "duration": 0.320096,
     "end_time": "2023-12-07T20:44:48.945485",
     "exception": false,
     "start_time": "2023-12-07T20:44:48.625389",
     "status": "completed"
    },
    "tags": []
   },
   "outputs": [
    {
     "data": {
      "image/png": "[encoded data removed]",
      "text/plain": [
       "<Figure size 800x500 with 1 Axes>"
      ]
     },
     "metadata": {},
     "output_type": "display_data"
    }
   ],
   "source": [
    "# Visualización de predicciones\n",
    "plt.figure(figsize=(8, 5))\n",
    "sns.countplot(data=output, x='Survived', palette='viridis')\n",
    "plt.title('Distribución de Predicciones de Supervivencia en el Conjunto de Prueba')\n",
    "plt.xlabel('Survived')\n",
    "plt.ylabel('Count')\n",
    "plt.show()"
   ]
  }
 ],
 "metadata": {
  "kaggle": {
   "accelerator": "none",
   "dataSources": [
    {
     "datasetId": 4127842,
     "sourceId": 7149614,
     "sourceType": "datasetVersion"
    }
   ],
   "dockerImageVersionId": 30615,
   "isGpuEnabled": false,
   "isInternetEnabled": false,
   "language": "python",
   "sourceType": "notebook"
  },
  "kernelspec": {
   "display_name": "Python 3",
   "language": "python",
   "name": "python3"
  },
  "language_info": {
   "codemirror_mode": {
    "name": "ipython",
    "version": 3
   },
   "file_extension": ".py",
   "mimetype": "text/x-python",
   "name": "python",
   "nbconvert_exporter": "python",
   "pygments_lexer": "ipython3",
   "version": "3.10.12"
  },
  "papermill": {
   "default_parameters": {},
   "duration": 133.786888,
   "end_time": "2023-12-07T20:44:49.574218",
   "environment_variables": {},
   "exception": null,
   "input_path": "__notebook__.ipynb",
   "output_path": "__notebook__.ipynb",
   "parameters": {},
   "start_time": "2023-12-07T20:42:35.787330",
   "version": "2.4.0"
  }
 },
 "nbformat": 4,
 "nbformat_minor": 5
}
